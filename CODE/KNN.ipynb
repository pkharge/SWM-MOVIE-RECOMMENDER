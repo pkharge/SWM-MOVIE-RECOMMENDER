{
  "nbformat": 4,
  "nbformat_minor": 0,
  "metadata": {
    "colab": {
      "name": "KNN.ipynb",
      "provenance": [],
      "collapsed_sections": []
    },
    "kernelspec": {
      "name": "python3",
      "display_name": "Python 3"
    },
    "language_info": {
      "name": "python"
    }
  },
  "cells": [
    {
      "cell_type": "code",
      "execution_count": 5,
      "metadata": {
        "colab": {
          "base_uri": "https://localhost:8080/"
        },
        "id": "ax64bcjhebL_",
        "outputId": "a576e82f-9983-410d-8b7a-37fd29151ebc"
      },
      "outputs": [
        {
          "output_type": "stream",
          "name": "stdout",
          "text": [
            "Requirement already satisfied: google in /usr/local/lib/python3.7/dist-packages (2.0.3)\n",
            "Requirement already satisfied: beautifulsoup4 in /usr/local/lib/python3.7/dist-packages (from google) (4.6.3)\n"
          ]
        }
      ],
      "source": [
        "pip install google"
      ]
    },
    {
      "cell_type": "code",
      "source": [
        "from google.colab import drive\n",
        "drive.mount('/content/drive')"
      ],
      "metadata": {
        "colab": {
          "base_uri": "https://localhost:8080/"
        },
        "id": "vJKCIZJ3ewJd",
        "outputId": "00c79eef-2af7-413e-cb56-540024c257ca"
      },
      "execution_count": 6,
      "outputs": [
        {
          "output_type": "stream",
          "name": "stdout",
          "text": [
            "Mounted at /content/drive\n"
          ]
        }
      ]
    },
    {
      "cell_type": "code",
      "source": [
        "!pip install numpy\n",
        "!pip install scikit-surprise\n",
        "import os\n",
        "import pandas as pd\n",
        "from surprise import Reader\n",
        "from surprise import Dataset\n",
        "from surprise.model_selection import KFold\n",
        "from surprise.model_selection import cross_validate\n",
        "from surprise.model_selection import train_test_split\n",
        "from surprise.model_selection import GridSearchCV\n",
        "from surprise.accuracy import rmse\n",
        "from collections import defaultdict\n",
        "from surprise import KNNBasic\n",
        "from surprise import SVD\n",
        "from surprise import SVDpp\n",
        "from surprise import NMF\n",
        "from surprise import accuracy\n",
        "from surprise import AlgoBase"
      ],
      "metadata": {
        "colab": {
          "base_uri": "https://localhost:8080/"
        },
        "id": "tCQpWrdReyNH",
        "outputId": "28dc8420-b5d4-4d9b-c773-581b07795b19"
      },
      "execution_count": 7,
      "outputs": [
        {
          "output_type": "stream",
          "name": "stdout",
          "text": [
            "Requirement already satisfied: numpy in /usr/local/lib/python3.7/dist-packages (1.21.6)\n",
            "Collecting scikit-surprise\n",
            "  Downloading scikit-surprise-1.1.1.tar.gz (11.8 MB)\n",
            "\u001b[K     |████████████████████████████████| 11.8 MB 6.1 MB/s \n",
            "\u001b[?25hRequirement already satisfied: joblib>=0.11 in /usr/local/lib/python3.7/dist-packages (from scikit-surprise) (1.1.0)\n",
            "Requirement already satisfied: numpy>=1.11.2 in /usr/local/lib/python3.7/dist-packages (from scikit-surprise) (1.21.6)\n",
            "Requirement already satisfied: scipy>=1.0.0 in /usr/local/lib/python3.7/dist-packages (from scikit-surprise) (1.4.1)\n",
            "Requirement already satisfied: six>=1.10.0 in /usr/local/lib/python3.7/dist-packages (from scikit-surprise) (1.15.0)\n",
            "Building wheels for collected packages: scikit-surprise\n",
            "  Building wheel for scikit-surprise (setup.py) ... \u001b[?25l\u001b[?25hdone\n",
            "  Created wheel for scikit-surprise: filename=scikit_surprise-1.1.1-cp37-cp37m-linux_x86_64.whl size=1630165 sha256=1121a4c49ae0a433a0f3677f8bad1f89f90b581fd056fff549a8f189bf79751f\n",
            "  Stored in directory: /root/.cache/pip/wheels/76/44/74/b498c42be47b2406bd27994e16c5188e337c657025ab400c1c\n",
            "Successfully built scikit-surprise\n",
            "Installing collected packages: scikit-surprise\n",
            "Successfully installed scikit-surprise-1.1.1\n"
          ]
        }
      ]
    },
    {
      "cell_type": "code",
      "source": [
        "ratings = pd.read_csv('/content/drive/MyDrive/CSE573-SWM-Movie-Recommender/DATA/ratings.csv')\n",
        "ratings.head()"
      ],
      "metadata": {
        "colab": {
          "base_uri": "https://localhost:8080/",
          "height": 206
        },
        "id": "5SLJwqPre9yY",
        "outputId": "8afa927e-b464-4bc1-d38b-b67059d11d06"
      },
      "execution_count": 10,
      "outputs": [
        {
          "output_type": "execute_result",
          "data": {
            "text/plain": [
              "   userId  movieId  rating  timestamp\n",
              "0       1        1     4.0  964982703\n",
              "1       1        3     4.0  964981247\n",
              "2       1        6     4.0  964982224\n",
              "3       1       47     5.0  964983815\n",
              "4       1       50     5.0  964982931"
            ],
            "text/html": [
              "\n",
              "  <div id=\"df-d2c5ceb9-64bc-4f78-aa8a-570902eb5ce2\">\n",
              "    <div class=\"colab-df-container\">\n",
              "      <div>\n",
              "<style scoped>\n",
              "    .dataframe tbody tr th:only-of-type {\n",
              "        vertical-align: middle;\n",
              "    }\n",
              "\n",
              "    .dataframe tbody tr th {\n",
              "        vertical-align: top;\n",
              "    }\n",
              "\n",
              "    .dataframe thead th {\n",
              "        text-align: right;\n",
              "    }\n",
              "</style>\n",
              "<table border=\"1\" class=\"dataframe\">\n",
              "  <thead>\n",
              "    <tr style=\"text-align: right;\">\n",
              "      <th></th>\n",
              "      <th>userId</th>\n",
              "      <th>movieId</th>\n",
              "      <th>rating</th>\n",
              "      <th>timestamp</th>\n",
              "    </tr>\n",
              "  </thead>\n",
              "  <tbody>\n",
              "    <tr>\n",
              "      <th>0</th>\n",
              "      <td>1</td>\n",
              "      <td>1</td>\n",
              "      <td>4.0</td>\n",
              "      <td>964982703</td>\n",
              "    </tr>\n",
              "    <tr>\n",
              "      <th>1</th>\n",
              "      <td>1</td>\n",
              "      <td>3</td>\n",
              "      <td>4.0</td>\n",
              "      <td>964981247</td>\n",
              "    </tr>\n",
              "    <tr>\n",
              "      <th>2</th>\n",
              "      <td>1</td>\n",
              "      <td>6</td>\n",
              "      <td>4.0</td>\n",
              "      <td>964982224</td>\n",
              "    </tr>\n",
              "    <tr>\n",
              "      <th>3</th>\n",
              "      <td>1</td>\n",
              "      <td>47</td>\n",
              "      <td>5.0</td>\n",
              "      <td>964983815</td>\n",
              "    </tr>\n",
              "    <tr>\n",
              "      <th>4</th>\n",
              "      <td>1</td>\n",
              "      <td>50</td>\n",
              "      <td>5.0</td>\n",
              "      <td>964982931</td>\n",
              "    </tr>\n",
              "  </tbody>\n",
              "</table>\n",
              "</div>\n",
              "      <button class=\"colab-df-convert\" onclick=\"convertToInteractive('df-d2c5ceb9-64bc-4f78-aa8a-570902eb5ce2')\"\n",
              "              title=\"Convert this dataframe to an interactive table.\"\n",
              "              style=\"display:none;\">\n",
              "        \n",
              "  <svg xmlns=\"http://www.w3.org/2000/svg\" height=\"24px\"viewBox=\"0 0 24 24\"\n",
              "       width=\"24px\">\n",
              "    <path d=\"M0 0h24v24H0V0z\" fill=\"none\"/>\n",
              "    <path d=\"M18.56 5.44l.94 2.06.94-2.06 2.06-.94-2.06-.94-.94-2.06-.94 2.06-2.06.94zm-11 1L8.5 8.5l.94-2.06 2.06-.94-2.06-.94L8.5 2.5l-.94 2.06-2.06.94zm10 10l.94 2.06.94-2.06 2.06-.94-2.06-.94-.94-2.06-.94 2.06-2.06.94z\"/><path d=\"M17.41 7.96l-1.37-1.37c-.4-.4-.92-.59-1.43-.59-.52 0-1.04.2-1.43.59L10.3 9.45l-7.72 7.72c-.78.78-.78 2.05 0 2.83L4 21.41c.39.39.9.59 1.41.59.51 0 1.02-.2 1.41-.59l7.78-7.78 2.81-2.81c.8-.78.8-2.07 0-2.86zM5.41 20L4 18.59l7.72-7.72 1.47 1.35L5.41 20z\"/>\n",
              "  </svg>\n",
              "      </button>\n",
              "      \n",
              "  <style>\n",
              "    .colab-df-container {\n",
              "      display:flex;\n",
              "      flex-wrap:wrap;\n",
              "      gap: 12px;\n",
              "    }\n",
              "\n",
              "    .colab-df-convert {\n",
              "      background-color: #E8F0FE;\n",
              "      border: none;\n",
              "      border-radius: 50%;\n",
              "      cursor: pointer;\n",
              "      display: none;\n",
              "      fill: #1967D2;\n",
              "      height: 32px;\n",
              "      padding: 0 0 0 0;\n",
              "      width: 32px;\n",
              "    }\n",
              "\n",
              "    .colab-df-convert:hover {\n",
              "      background-color: #E2EBFA;\n",
              "      box-shadow: 0px 1px 2px rgba(60, 64, 67, 0.3), 0px 1px 3px 1px rgba(60, 64, 67, 0.15);\n",
              "      fill: #174EA6;\n",
              "    }\n",
              "\n",
              "    [theme=dark] .colab-df-convert {\n",
              "      background-color: #3B4455;\n",
              "      fill: #D2E3FC;\n",
              "    }\n",
              "\n",
              "    [theme=dark] .colab-df-convert:hover {\n",
              "      background-color: #434B5C;\n",
              "      box-shadow: 0px 1px 3px 1px rgba(0, 0, 0, 0.15);\n",
              "      filter: drop-shadow(0px 1px 2px rgba(0, 0, 0, 0.3));\n",
              "      fill: #FFFFFF;\n",
              "    }\n",
              "  </style>\n",
              "\n",
              "      <script>\n",
              "        const buttonEl =\n",
              "          document.querySelector('#df-d2c5ceb9-64bc-4f78-aa8a-570902eb5ce2 button.colab-df-convert');\n",
              "        buttonEl.style.display =\n",
              "          google.colab.kernel.accessAllowed ? 'block' : 'none';\n",
              "\n",
              "        async function convertToInteractive(key) {\n",
              "          const element = document.querySelector('#df-d2c5ceb9-64bc-4f78-aa8a-570902eb5ce2');\n",
              "          const dataTable =\n",
              "            await google.colab.kernel.invokeFunction('convertToInteractive',\n",
              "                                                     [key], {});\n",
              "          if (!dataTable) return;\n",
              "\n",
              "          const docLinkHtml = 'Like what you see? Visit the ' +\n",
              "            '<a target=\"_blank\" href=https://colab.research.google.com/notebooks/data_table.ipynb>data table notebook</a>'\n",
              "            + ' to learn more about interactive tables.';\n",
              "          element.innerHTML = '';\n",
              "          dataTable['output_type'] = 'display_data';\n",
              "          await google.colab.output.renderOutput(dataTable, element);\n",
              "          const docLink = document.createElement('div');\n",
              "          docLink.innerHTML = docLinkHtml;\n",
              "          element.appendChild(docLink);\n",
              "        }\n",
              "      </script>\n",
              "    </div>\n",
              "  </div>\n",
              "  "
            ]
          },
          "metadata": {},
          "execution_count": 10
        }
      ]
    },
    {
      "cell_type": "code",
      "source": [
        "ratings_map = {}\n",
        "ratings_map['itemID'] = list(ratings.movieId)\n",
        "ratings_map['userID'] = list(ratings.userId)\n",
        "ratings_map['rating'] = list(ratings.rating)\n",
        "\n",
        "df = pd.DataFrame(ratings_map)\n",
        "df.shape"
      ],
      "metadata": {
        "colab": {
          "base_uri": "https://localhost:8080/"
        },
        "id": "lR8yGVUOfAlV",
        "outputId": "5b3b4ac1-4445-4ab5-eebd-60ea48842959"
      },
      "execution_count": 11,
      "outputs": [
        {
          "output_type": "execute_result",
          "data": {
            "text/plain": [
              "(100836, 3)"
            ]
          },
          "metadata": {},
          "execution_count": 11
        }
      ]
    },
    {
      "cell_type": "code",
      "source": [
        "from surprise.model_selection import KFold\n",
        "rr = Reader(rating_scale=(0.5, 5.0))\n",
        "rating_map_keys = ['userID', 'itemID', 'rating']\n",
        "filter = df[rating_map_keys]\n",
        "data = Dataset.load_from_df(filter, rr)\n",
        "\n",
        "kf = KFold(n_splits=5)\n",
        "kf.split(data)"
      ],
      "metadata": {
        "colab": {
          "base_uri": "https://localhost:8080/"
        },
        "id": "dzUskPSwfDav",
        "outputId": "aeb39709-76c8-4336-9c69-15e7f5703038"
      },
      "execution_count": 12,
      "outputs": [
        {
          "output_type": "execute_result",
          "data": {
            "text/plain": [
              "<generator object KFold.split at 0x7f6c557623d0>"
            ]
          },
          "metadata": {},
          "execution_count": 12
        }
      ]
    },
    {
      "cell_type": "code",
      "source": [
        "trainset, testset = train_test_split(data, test_size=0.2)\n",
        "algo = SVD(n_factors=30, n_epochs=20, lr_all=0.008, reg_all=0.08)\n",
        "predictions = algo.fit(trainset).test(testset)\n",
        "accuracy.rmse(predictions)"
      ],
      "metadata": {
        "colab": {
          "base_uri": "https://localhost:8080/"
        },
        "id": "BqDDVB_OflMZ",
        "outputId": "75564ac5-cbf4-4bf1-ee35-1cc4cc77ab71"
      },
      "execution_count": 13,
      "outputs": [
        {
          "output_type": "stream",
          "name": "stdout",
          "text": [
            "RMSE: 0.8641\n"
          ]
        },
        {
          "output_type": "execute_result",
          "data": {
            "text/plain": [
              "0.8641432622800898"
            ]
          },
          "metadata": {},
          "execution_count": 13
        }
      ]
    },
    {
      "cell_type": "code",
      "source": [
        "algo1 = KNNBasic(n_factors=30, n_epochs=20)\n",
        "predictions2 = algo1.fit(trainset).test(testset)\n",
        "accuracy.rmse(predictions2)"
      ],
      "metadata": {
        "colab": {
          "base_uri": "https://localhost:8080/"
        },
        "id": "I-IMf3JdfJa6",
        "outputId": "69796893-f0c0-4042-95ae-0d68a7c3f339"
      },
      "execution_count": 15,
      "outputs": [
        {
          "output_type": "stream",
          "name": "stdout",
          "text": [
            "Computing the msd similarity matrix...\n",
            "Done computing similarity matrix.\n",
            "RMSE: 0.9421\n"
          ]
        },
        {
          "output_type": "execute_result",
          "data": {
            "text/plain": [
              "0.9420790684480527"
            ]
          },
          "metadata": {},
          "execution_count": 15
        }
      ]
    },
    {
      "cell_type": "code",
      "source": [
        "def precision_recall_at_k(predictions, k=10, threshold=3.5):\n",
        "\n",
        "    userid_to_estimate_map = defaultdict(list)\n",
        "    for user_id, _, ratings_true, estimate_value, _ in predictions:\n",
        "        userid_to_estimate_map[user_id].append((estimate_value, ratings_true))\n",
        "\n",
        "    precisions = dict()\n",
        "    recalls = dict()\n",
        "    for user_id, user_ratings in userid_to_estimate_map.items():\n",
        "\n",
        "        user_ratings.sort(key=lambda x: x[0], reverse=True)\n",
        "\n",
        "        n_rel = sum((ratings_true >= threshold) for (_, ratings_true) in user_ratings)\n",
        "\n",
        "        n_rec_k = sum((estimate_value >= threshold) for (estimate_value, _) in user_ratings[:k])\n",
        "\n",
        "        n_rel_and_rec_k = sum(((ratings_true >= threshold) and (estimate_value >= threshold))\n",
        "                              for (estimate_value, ratings_true) in user_ratings[:k])\n",
        "\n",
        "        precisions[user_id] = n_rel_and_rec_k / n_rec_k if n_rec_k != 0 else 1\n",
        "\n",
        "        recalls[user_id] = n_rel_and_rec_k / n_rel if n_rel != 0 else 1\n",
        "\n",
        "    return precisions, recalls"
      ],
      "metadata": {
        "id": "O8clegYPjLIl"
      },
      "execution_count": 18,
      "outputs": []
    },
    {
      "cell_type": "code",
      "source": [
        "kf = KFold(n_splits=4)\n",
        "\n",
        "i = 1\n",
        "for trainset, testset in kf.split(data):\n",
        "    print(\"Split:\", i)\n",
        "    predictions = algo1.fit(trainset).test(testset)\n",
        "    accuracy.rmse(predictions, verbose=True)\n",
        "    precisions, recalls = precision_recall_at_k(predictions, k=5, threshold=4)\n",
        "\n",
        "    print(\"Precision:\", sum(prec for prec in precisions.values()) / len(precisions))\n",
        "    print(\"Recall:\", sum(rec for rec in recalls.values()) / len(recalls))"
      ],
      "metadata": {
        "colab": {
          "base_uri": "https://localhost:8080/"
        },
        "id": "RpKothhyfsqc",
        "outputId": "62b0a7fb-1d8d-49e8-e775-9d0aa15402dd"
      },
      "execution_count": 19,
      "outputs": [
        {
          "output_type": "stream",
          "name": "stdout",
          "text": [
            "Split: 1\n",
            "Computing the msd similarity matrix...\n",
            "Done computing similarity matrix.\n",
            "RMSE: 0.9490\n",
            "Precision: 0.7934699453551924\n",
            "Recall: 0.25461574366041145\n",
            "Split: 1\n",
            "Computing the msd similarity matrix...\n",
            "Done computing similarity matrix.\n",
            "RMSE: 0.9518\n",
            "Precision: 0.7769398907103835\n",
            "Recall: 0.26155487184094406\n",
            "Split: 1\n",
            "Computing the msd similarity matrix...\n",
            "Done computing similarity matrix.\n",
            "RMSE: 0.9511\n",
            "Precision: 0.7766393442622963\n",
            "Recall: 0.2665051902172836\n",
            "Split: 1\n",
            "Computing the msd similarity matrix...\n",
            "Done computing similarity matrix.\n",
            "RMSE: 0.9531\n",
            "Precision: 0.7621038251366131\n",
            "Recall: 0.26986408655957206\n"
          ]
        }
      ]
    },
    {
      "cell_type": "code",
      "source": [
        "def getpreds(predictions):\n",
        "    \n",
        "    fin = defaultdict(list)    \n",
        "    for user_id, id, ratings_true, estimate_value, _ in predictions:\n",
        "        fin[user_id].append((id, estimate_value))\n",
        "\n",
        "    for user_id, user_ratings in fin.items():\n",
        "        user_ratings.sort(key=lambda x: x[1], reverse=True)\n",
        "\n",
        "    return fin"
      ],
      "metadata": {
        "id": "TGGc31YciBs0"
      },
      "execution_count": 20,
      "outputs": []
    },
    {
      "cell_type": "code",
      "source": [
        "trainset = data.build_full_trainset()\n",
        "algo1.fit(trainset)\n",
        "\n",
        "testset = trainset.build_anti_testset()\n",
        "predictions = algo1.test(testset)\n",
        "all_pred = getpreds(predictions)"
      ],
      "metadata": {
        "colab": {
          "base_uri": "https://localhost:8080/"
        },
        "id": "qqTObHB3kAqO",
        "outputId": "e08d754c-3d5b-46b6-c79a-8f83523fb095"
      },
      "execution_count": 22,
      "outputs": [
        {
          "output_type": "stream",
          "name": "stdout",
          "text": [
            "Computing the msd similarity matrix...\n",
            "Done computing similarity matrix.\n"
          ]
        }
      ]
    },
    {
      "cell_type": "code",
      "source": [
        "n = 10\n",
        "\n",
        "for user_id, user_ratings in all_pred.items():\n",
        "    user_ratings.sort(key=lambda x: x[1], reverse=True)\n",
        "    all_pred[user_id] = user_ratings[:n]"
      ],
      "metadata": {
        "id": "945A386-kTLY"
      },
      "execution_count": 23,
      "outputs": []
    },
    {
      "cell_type": "code",
      "source": [
        "tmp = pd.DataFrame.from_dict(all_pred)\n",
        "tmp_transpose = tmp.transpose()"
      ],
      "metadata": {
        "id": "TBzdWYHakYI-"
      },
      "execution_count": 24,
      "outputs": []
    },
    {
      "cell_type": "code",
      "source": [
        "res = []\n",
        "for user_id,user_ratings in all_pred.items():\n",
        "  res.append(tmp_transpose.loc[user_id])"
      ],
      "metadata": {
        "id": "KtIFd-n-kYzO"
      },
      "execution_count": 25,
      "outputs": []
    },
    {
      "cell_type": "code",
      "source": [
        "recomml = []\n",
        "for i in res:\n",
        "  recommended_movie_ids=[]\n",
        "  for x in range(0, n):\n",
        "    recommended_movie_ids.append(i[x][0])\n",
        "  recomml.append(recommended_movie_ids)"
      ],
      "metadata": {
        "id": "Gs4xRe9skdVK"
      },
      "execution_count": 26,
      "outputs": []
    },
    {
      "cell_type": "code",
      "source": [
        "movies = pd.read_csv('/content/drive/MyDrive/CSE573-SWM-Movie-Recommender/DATA/movies.csv')\n",
        "finall = []\n",
        "for i in recomml:\n",
        "  df = movies[movies['movieId'].isin(i)]\n",
        "  temp = df['title'].tolist()\n",
        "  finall.append(temp)"
      ],
      "metadata": {
        "id": "Ke4bXvEukfpw"
      },
      "execution_count": 28,
      "outputs": []
    },
    {
      "cell_type": "code",
      "source": [
        "fin = pd.DataFrame(finall)"
      ],
      "metadata": {
        "id": "cCZvSA1fkjSW"
      },
      "execution_count": 29,
      "outputs": []
    },
    {
      "cell_type": "code",
      "source": [
        "fin.to_csv('/content/drive/MyDrive/CSE573-SWM-Movie-Recommender/DATA/file1.csv',index = False)"
      ],
      "metadata": {
        "id": "7XIRujo9klHh"
      },
      "execution_count": 30,
      "outputs": []
    },
    {
      "cell_type": "code",
      "source": [
        "r = pd.read_csv('/content/drive/MyDrive/CSE573-SWM-Movie-Recommender/DATA/file1.csv')\n",
        "r"
      ],
      "metadata": {
        "colab": {
          "base_uri": "https://localhost:8080/",
          "height": 1000
        },
        "id": "n9HUMUukkrog",
        "outputId": "d5fa4ca6-ad54-4f7a-ed21-bc1eec7a6e71"
      },
      "execution_count": 32,
      "outputs": [
        {
          "output_type": "execute_result",
          "data": {
            "text/plain": [
              "                                                     0  \\\n",
              "0                                  Lesson Faust (1994)   \n",
              "1    Far From Home: The Adventures of Yellow Dog (1...   \n",
              "2                                 It's My Party (1996)   \n",
              "3                                  Lesson Faust (1994)   \n",
              "4                                  Lesson Faust (1994)   \n",
              "..                                                 ...   \n",
              "605                                Lesson Faust (1994)   \n",
              "606                                Lesson Faust (1994)   \n",
              "607                                Lesson Faust (1994)   \n",
              "608                                Lesson Faust (1994)   \n",
              "609                                Lesson Faust (1994)   \n",
              "\n",
              "                          1                     2  \\\n",
              "0    Assignment, The (1997)       Mephisto (1981)   \n",
              "1             Lassie (1994)  It's My Party (1996)   \n",
              "2    Assignment, The (1997)       Mephisto (1981)   \n",
              "3    Assignment, The (1997)       Mephisto (1981)   \n",
              "4    Assignment, The (1997)       Mephisto (1981)   \n",
              "..                      ...                   ...   \n",
              "605  Assignment, The (1997)       Mephisto (1981)   \n",
              "606  Assignment, The (1997)       Mephisto (1981)   \n",
              "607  Assignment, The (1997)       Mephisto (1981)   \n",
              "608  Assignment, The (1997)           Bent (1997)   \n",
              "609  Assignment, The (1997)       Mephisto (1981)   \n",
              "\n",
              "                                                 3  \\\n",
              "0                   I'm the One That I Want (2000)   \n",
              "1    Children of the Corn IV: The Gathering (1996)   \n",
              "2                   I'm the One That I Want (2000)   \n",
              "3                  Galaxy of Terror (Quest) (1981)   \n",
              "4                   I'm the One That I Want (2000)   \n",
              "..                                             ...   \n",
              "605                 I'm the One That I Want (2000)   \n",
              "606                 I'm the One That I Want (2000)   \n",
              "607                 I'm the One That I Want (2000)   \n",
              "608                                Mephisto (1981)   \n",
              "609                 I'm the One That I Want (2000)   \n",
              "\n",
              "                                   4  \\\n",
              "0    Galaxy of Terror (Quest) (1981)   \n",
              "1                Lesson Faust (1994)   \n",
              "2                      Elling (2001)   \n",
              "3         Alien Contamination (1980)   \n",
              "4    Galaxy of Terror (Quest) (1981)   \n",
              "..                               ...   \n",
              "605  Galaxy of Terror (Quest) (1981)   \n",
              "606  Galaxy of Terror (Quest) (1981)   \n",
              "607  Galaxy of Terror (Quest) (1981)   \n",
              "608   I'm the One That I Want (2000)   \n",
              "609  Galaxy of Terror (Quest) (1981)   \n",
              "\n",
              "                                               5                            6  \\\n",
              "0                     Alien Contamination (1980)  Dylan Moran: Monster (2004)   \n",
              "1                 I'm the One That I Want (2000)                Elling (2001)   \n",
              "2    My Sassy Girl (Yeopgijeogin geunyeo) (2001)       Strictly Sexual (2008)   \n",
              "3    My Sassy Girl (Yeopgijeogin geunyeo) (2001)  Dylan Moran: Monster (2004)   \n",
              "4                                  Elling (2001)   Alien Contamination (1980)   \n",
              "..                                           ...                          ...   \n",
              "605                   Alien Contamination (1980)  Dylan Moran: Monster (2004)   \n",
              "606                   Alien Contamination (1980)  Dylan Moran: Monster (2004)   \n",
              "607                   Alien Contamination (1980)  Dylan Moran: Monster (2004)   \n",
              "608                                Elling (2001)  Dylan Moran: Monster (2004)   \n",
              "609                   Alien Contamination (1980)  Dylan Moran: Monster (2004)   \n",
              "\n",
              "                                  7  \\\n",
              "0    Bill Hicks: Revelations (1993)   \n",
              "1       Dylan Moran: Monster (2004)   \n",
              "2       Dylan Moran: Monster (2004)   \n",
              "3    Bill Hicks: Revelations (1993)   \n",
              "4       Dylan Moran: Monster (2004)   \n",
              "..                              ...   \n",
              "605  Bill Hicks: Revelations (1993)   \n",
              "606  Bill Hicks: Revelations (1993)   \n",
              "607  Bill Hicks: Revelations (1993)   \n",
              "608  Bill Hicks: Revelations (1993)   \n",
              "609  Bill Hicks: Revelations (1993)   \n",
              "\n",
              "                                                     8             9  \n",
              "0    The Jinx: The Life and Deaths of Robert Durst ...  Black Mirror  \n",
              "1                       Bill Hicks: Revelations (1993)  Black Mirror  \n",
              "2                       Bill Hicks: Revelations (1993)  Black Mirror  \n",
              "3    The Jinx: The Life and Deaths of Robert Durst ...  Black Mirror  \n",
              "4    The Jinx: The Life and Deaths of Robert Durst ...  Black Mirror  \n",
              "..                                                 ...           ...  \n",
              "605  The Jinx: The Life and Deaths of Robert Durst ...  Black Mirror  \n",
              "606  The Jinx: The Life and Deaths of Robert Durst ...  Black Mirror  \n",
              "607  The Jinx: The Life and Deaths of Robert Durst ...  Black Mirror  \n",
              "608  The Jinx: The Life and Deaths of Robert Durst ...  Black Mirror  \n",
              "609  The Jinx: The Life and Deaths of Robert Durst ...  Black Mirror  \n",
              "\n",
              "[610 rows x 10 columns]"
            ],
            "text/html": [
              "\n",
              "  <div id=\"df-1dd28abd-0048-4b84-acb6-914e4c318baf\">\n",
              "    <div class=\"colab-df-container\">\n",
              "      <div>\n",
              "<style scoped>\n",
              "    .dataframe tbody tr th:only-of-type {\n",
              "        vertical-align: middle;\n",
              "    }\n",
              "\n",
              "    .dataframe tbody tr th {\n",
              "        vertical-align: top;\n",
              "    }\n",
              "\n",
              "    .dataframe thead th {\n",
              "        text-align: right;\n",
              "    }\n",
              "</style>\n",
              "<table border=\"1\" class=\"dataframe\">\n",
              "  <thead>\n",
              "    <tr style=\"text-align: right;\">\n",
              "      <th></th>\n",
              "      <th>0</th>\n",
              "      <th>1</th>\n",
              "      <th>2</th>\n",
              "      <th>3</th>\n",
              "      <th>4</th>\n",
              "      <th>5</th>\n",
              "      <th>6</th>\n",
              "      <th>7</th>\n",
              "      <th>8</th>\n",
              "      <th>9</th>\n",
              "    </tr>\n",
              "  </thead>\n",
              "  <tbody>\n",
              "    <tr>\n",
              "      <th>0</th>\n",
              "      <td>Lesson Faust (1994)</td>\n",
              "      <td>Assignment, The (1997)</td>\n",
              "      <td>Mephisto (1981)</td>\n",
              "      <td>I'm the One That I Want (2000)</td>\n",
              "      <td>Galaxy of Terror (Quest) (1981)</td>\n",
              "      <td>Alien Contamination (1980)</td>\n",
              "      <td>Dylan Moran: Monster (2004)</td>\n",
              "      <td>Bill Hicks: Revelations (1993)</td>\n",
              "      <td>The Jinx: The Life and Deaths of Robert Durst ...</td>\n",
              "      <td>Black Mirror</td>\n",
              "    </tr>\n",
              "    <tr>\n",
              "      <th>1</th>\n",
              "      <td>Far From Home: The Adventures of Yellow Dog (1...</td>\n",
              "      <td>Lassie (1994)</td>\n",
              "      <td>It's My Party (1996)</td>\n",
              "      <td>Children of the Corn IV: The Gathering (1996)</td>\n",
              "      <td>Lesson Faust (1994)</td>\n",
              "      <td>I'm the One That I Want (2000)</td>\n",
              "      <td>Elling (2001)</td>\n",
              "      <td>Dylan Moran: Monster (2004)</td>\n",
              "      <td>Bill Hicks: Revelations (1993)</td>\n",
              "      <td>Black Mirror</td>\n",
              "    </tr>\n",
              "    <tr>\n",
              "      <th>2</th>\n",
              "      <td>It's My Party (1996)</td>\n",
              "      <td>Assignment, The (1997)</td>\n",
              "      <td>Mephisto (1981)</td>\n",
              "      <td>I'm the One That I Want (2000)</td>\n",
              "      <td>Elling (2001)</td>\n",
              "      <td>My Sassy Girl (Yeopgijeogin geunyeo) (2001)</td>\n",
              "      <td>Strictly Sexual (2008)</td>\n",
              "      <td>Dylan Moran: Monster (2004)</td>\n",
              "      <td>Bill Hicks: Revelations (1993)</td>\n",
              "      <td>Black Mirror</td>\n",
              "    </tr>\n",
              "    <tr>\n",
              "      <th>3</th>\n",
              "      <td>Lesson Faust (1994)</td>\n",
              "      <td>Assignment, The (1997)</td>\n",
              "      <td>Mephisto (1981)</td>\n",
              "      <td>Galaxy of Terror (Quest) (1981)</td>\n",
              "      <td>Alien Contamination (1980)</td>\n",
              "      <td>My Sassy Girl (Yeopgijeogin geunyeo) (2001)</td>\n",
              "      <td>Dylan Moran: Monster (2004)</td>\n",
              "      <td>Bill Hicks: Revelations (1993)</td>\n",
              "      <td>The Jinx: The Life and Deaths of Robert Durst ...</td>\n",
              "      <td>Black Mirror</td>\n",
              "    </tr>\n",
              "    <tr>\n",
              "      <th>4</th>\n",
              "      <td>Lesson Faust (1994)</td>\n",
              "      <td>Assignment, The (1997)</td>\n",
              "      <td>Mephisto (1981)</td>\n",
              "      <td>I'm the One That I Want (2000)</td>\n",
              "      <td>Galaxy of Terror (Quest) (1981)</td>\n",
              "      <td>Elling (2001)</td>\n",
              "      <td>Alien Contamination (1980)</td>\n",
              "      <td>Dylan Moran: Monster (2004)</td>\n",
              "      <td>The Jinx: The Life and Deaths of Robert Durst ...</td>\n",
              "      <td>Black Mirror</td>\n",
              "    </tr>\n",
              "    <tr>\n",
              "      <th>...</th>\n",
              "      <td>...</td>\n",
              "      <td>...</td>\n",
              "      <td>...</td>\n",
              "      <td>...</td>\n",
              "      <td>...</td>\n",
              "      <td>...</td>\n",
              "      <td>...</td>\n",
              "      <td>...</td>\n",
              "      <td>...</td>\n",
              "      <td>...</td>\n",
              "    </tr>\n",
              "    <tr>\n",
              "      <th>605</th>\n",
              "      <td>Lesson Faust (1994)</td>\n",
              "      <td>Assignment, The (1997)</td>\n",
              "      <td>Mephisto (1981)</td>\n",
              "      <td>I'm the One That I Want (2000)</td>\n",
              "      <td>Galaxy of Terror (Quest) (1981)</td>\n",
              "      <td>Alien Contamination (1980)</td>\n",
              "      <td>Dylan Moran: Monster (2004)</td>\n",
              "      <td>Bill Hicks: Revelations (1993)</td>\n",
              "      <td>The Jinx: The Life and Deaths of Robert Durst ...</td>\n",
              "      <td>Black Mirror</td>\n",
              "    </tr>\n",
              "    <tr>\n",
              "      <th>606</th>\n",
              "      <td>Lesson Faust (1994)</td>\n",
              "      <td>Assignment, The (1997)</td>\n",
              "      <td>Mephisto (1981)</td>\n",
              "      <td>I'm the One That I Want (2000)</td>\n",
              "      <td>Galaxy of Terror (Quest) (1981)</td>\n",
              "      <td>Alien Contamination (1980)</td>\n",
              "      <td>Dylan Moran: Monster (2004)</td>\n",
              "      <td>Bill Hicks: Revelations (1993)</td>\n",
              "      <td>The Jinx: The Life and Deaths of Robert Durst ...</td>\n",
              "      <td>Black Mirror</td>\n",
              "    </tr>\n",
              "    <tr>\n",
              "      <th>607</th>\n",
              "      <td>Lesson Faust (1994)</td>\n",
              "      <td>Assignment, The (1997)</td>\n",
              "      <td>Mephisto (1981)</td>\n",
              "      <td>I'm the One That I Want (2000)</td>\n",
              "      <td>Galaxy of Terror (Quest) (1981)</td>\n",
              "      <td>Alien Contamination (1980)</td>\n",
              "      <td>Dylan Moran: Monster (2004)</td>\n",
              "      <td>Bill Hicks: Revelations (1993)</td>\n",
              "      <td>The Jinx: The Life and Deaths of Robert Durst ...</td>\n",
              "      <td>Black Mirror</td>\n",
              "    </tr>\n",
              "    <tr>\n",
              "      <th>608</th>\n",
              "      <td>Lesson Faust (1994)</td>\n",
              "      <td>Assignment, The (1997)</td>\n",
              "      <td>Bent (1997)</td>\n",
              "      <td>Mephisto (1981)</td>\n",
              "      <td>I'm the One That I Want (2000)</td>\n",
              "      <td>Elling (2001)</td>\n",
              "      <td>Dylan Moran: Monster (2004)</td>\n",
              "      <td>Bill Hicks: Revelations (1993)</td>\n",
              "      <td>The Jinx: The Life and Deaths of Robert Durst ...</td>\n",
              "      <td>Black Mirror</td>\n",
              "    </tr>\n",
              "    <tr>\n",
              "      <th>609</th>\n",
              "      <td>Lesson Faust (1994)</td>\n",
              "      <td>Assignment, The (1997)</td>\n",
              "      <td>Mephisto (1981)</td>\n",
              "      <td>I'm the One That I Want (2000)</td>\n",
              "      <td>Galaxy of Terror (Quest) (1981)</td>\n",
              "      <td>Alien Contamination (1980)</td>\n",
              "      <td>Dylan Moran: Monster (2004)</td>\n",
              "      <td>Bill Hicks: Revelations (1993)</td>\n",
              "      <td>The Jinx: The Life and Deaths of Robert Durst ...</td>\n",
              "      <td>Black Mirror</td>\n",
              "    </tr>\n",
              "  </tbody>\n",
              "</table>\n",
              "<p>610 rows × 10 columns</p>\n",
              "</div>\n",
              "      <button class=\"colab-df-convert\" onclick=\"convertToInteractive('df-1dd28abd-0048-4b84-acb6-914e4c318baf')\"\n",
              "              title=\"Convert this dataframe to an interactive table.\"\n",
              "              style=\"display:none;\">\n",
              "        \n",
              "  <svg xmlns=\"http://www.w3.org/2000/svg\" height=\"24px\"viewBox=\"0 0 24 24\"\n",
              "       width=\"24px\">\n",
              "    <path d=\"M0 0h24v24H0V0z\" fill=\"none\"/>\n",
              "    <path d=\"M18.56 5.44l.94 2.06.94-2.06 2.06-.94-2.06-.94-.94-2.06-.94 2.06-2.06.94zm-11 1L8.5 8.5l.94-2.06 2.06-.94-2.06-.94L8.5 2.5l-.94 2.06-2.06.94zm10 10l.94 2.06.94-2.06 2.06-.94-2.06-.94-.94-2.06-.94 2.06-2.06.94z\"/><path d=\"M17.41 7.96l-1.37-1.37c-.4-.4-.92-.59-1.43-.59-.52 0-1.04.2-1.43.59L10.3 9.45l-7.72 7.72c-.78.78-.78 2.05 0 2.83L4 21.41c.39.39.9.59 1.41.59.51 0 1.02-.2 1.41-.59l7.78-7.78 2.81-2.81c.8-.78.8-2.07 0-2.86zM5.41 20L4 18.59l7.72-7.72 1.47 1.35L5.41 20z\"/>\n",
              "  </svg>\n",
              "      </button>\n",
              "      \n",
              "  <style>\n",
              "    .colab-df-container {\n",
              "      display:flex;\n",
              "      flex-wrap:wrap;\n",
              "      gap: 12px;\n",
              "    }\n",
              "\n",
              "    .colab-df-convert {\n",
              "      background-color: #E8F0FE;\n",
              "      border: none;\n",
              "      border-radius: 50%;\n",
              "      cursor: pointer;\n",
              "      display: none;\n",
              "      fill: #1967D2;\n",
              "      height: 32px;\n",
              "      padding: 0 0 0 0;\n",
              "      width: 32px;\n",
              "    }\n",
              "\n",
              "    .colab-df-convert:hover {\n",
              "      background-color: #E2EBFA;\n",
              "      box-shadow: 0px 1px 2px rgba(60, 64, 67, 0.3), 0px 1px 3px 1px rgba(60, 64, 67, 0.15);\n",
              "      fill: #174EA6;\n",
              "    }\n",
              "\n",
              "    [theme=dark] .colab-df-convert {\n",
              "      background-color: #3B4455;\n",
              "      fill: #D2E3FC;\n",
              "    }\n",
              "\n",
              "    [theme=dark] .colab-df-convert:hover {\n",
              "      background-color: #434B5C;\n",
              "      box-shadow: 0px 1px 3px 1px rgba(0, 0, 0, 0.15);\n",
              "      filter: drop-shadow(0px 1px 2px rgba(0, 0, 0, 0.3));\n",
              "      fill: #FFFFFF;\n",
              "    }\n",
              "  </style>\n",
              "\n",
              "      <script>\n",
              "        const buttonEl =\n",
              "          document.querySelector('#df-1dd28abd-0048-4b84-acb6-914e4c318baf button.colab-df-convert');\n",
              "        buttonEl.style.display =\n",
              "          google.colab.kernel.accessAllowed ? 'block' : 'none';\n",
              "\n",
              "        async function convertToInteractive(key) {\n",
              "          const element = document.querySelector('#df-1dd28abd-0048-4b84-acb6-914e4c318baf');\n",
              "          const dataTable =\n",
              "            await google.colab.kernel.invokeFunction('convertToInteractive',\n",
              "                                                     [key], {});\n",
              "          if (!dataTable) return;\n",
              "\n",
              "          const docLinkHtml = 'Like what you see? Visit the ' +\n",
              "            '<a target=\"_blank\" href=https://colab.research.google.com/notebooks/data_table.ipynb>data table notebook</a>'\n",
              "            + ' to learn more about interactive tables.';\n",
              "          element.innerHTML = '';\n",
              "          dataTable['output_type'] = 'display_data';\n",
              "          await google.colab.output.renderOutput(dataTable, element);\n",
              "          const docLink = document.createElement('div');\n",
              "          docLink.innerHTML = docLinkHtml;\n",
              "          element.appendChild(docLink);\n",
              "        }\n",
              "      </script>\n",
              "    </div>\n",
              "  </div>\n",
              "  "
            ]
          },
          "metadata": {},
          "execution_count": 32
        }
      ]
    }
  ]
}