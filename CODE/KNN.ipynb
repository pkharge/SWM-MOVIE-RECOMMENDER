{
  "cells": [
    {
      "cell_type": "code",
      "execution_count": null,
      "metadata": {
        "colab": {
          "base_uri": "https://localhost:8080/"
        },
        "id": "ax64bcjhebL_",
        "outputId": "a576e82f-9983-410d-8b7a-37fd29151ebc"
      },
      "outputs": [],
      "source": [
        "# Install the required packages\n",
        "pip install google"
      ]
    },
    {
      "cell_type": "code",
      "execution_count": null,
      "metadata": {
        "colab": {
          "base_uri": "https://localhost:8080/"
        },
        "id": "vJKCIZJ3ewJd",
        "outputId": "00c79eef-2af7-413e-cb56-540024c257ca"
      },
      "outputs": [],
      "source": [
        "# Import drive\n",
        "from google.colab import drive\n",
        "drive.mount('/content/drive')"
      ]
    },
    {
      "cell_type": "code",
      "execution_count": null,
      "metadata": {
        "colab": {
          "base_uri": "https://localhost:8080/"
        },
        "id": "tCQpWrdReyNH",
        "outputId": "28dc8420-b5d4-4d9b-c773-581b07795b19"
      },
      "outputs": [],
      "source": [
        "# Install the required packages for the collab code to run\n",
        "!pip install numpy\n",
        "!pip install scikit-surprise\n",
        "import os\n",
        "import pandas as pd\n",
        "from surprise import KNNBasic\n",
        "from surprise import SVD\n",
        "from surprise import SVDpp\n",
        "from surprise import NMF\n",
        "from surprise import accuracy\n",
        "from surprise import AlgoBase\n",
        "from surprise import Reader\n",
        "from surprise import Dataset\n",
        "from surprise.model_selection import KFold\n",
        "from surprise.model_selection import cross_validate\n",
        "from surprise.model_selection import train_test_split\n",
        "from surprise.model_selection import GridSearchCV\n",
        "from surprise.accuracy import rmse\n",
        "from collections import defaultdict\n"
      ]
    },
    {
      "cell_type": "code",
      "execution_count": null,
      "metadata": {
        "colab": {
          "base_uri": "https://localhost:8080/",
          "height": 206
        },
        "id": "5SLJwqPre9yY",
        "outputId": "8afa927e-b464-4bc1-d38b-b67059d11d06"
      },
      "outputs": [],
      "source": [
        "# Get the ratings data from ratings.csv file\n",
        "ratings_data = pd.read_csv('/content/drive/MyDrive/CSE573-SWM-Movie-Recommender/DATA/ratings.csv')\n",
        "ratings_data.head()"
      ]
    },
    {
      "cell_type": "code",
      "execution_count": 11,
      "metadata": {
        "colab": {
          "base_uri": "https://localhost:8080/"
        },
        "id": "lR8yGVUOfAlV",
        "outputId": "5b3b4ac1-4445-4ab5-eebd-60ea48842959"
      },
      "outputs": [
        {
          "data": {
            "text/plain": [
              "(100836, 3)"
            ]
          },
          "execution_count": 11,
          "metadata": {},
          "output_type": "execute_result"
        }
      ],
      "source": [
        "# Map the relative data into the variable\n",
        "ratings_map_data = {}\n",
        "ratings_map_data['itemID'] = list(ratings_data.movieId)\n",
        "ratings_map_data['userID'] = list(ratings_data.userId)\n",
        "ratings_map_data['rating'] = list(ratings_data.rating)\n",
        "\n",
        "# Contruct a data frame for the ratings data\n",
        "df = pd.DataFrame(ratings_map_data)\n",
        "df.shape"
      ]
    },
    {
      "cell_type": "code",
      "execution_count": 12,
      "metadata": {
        "colab": {
          "base_uri": "https://localhost:8080/"
        },
        "id": "dzUskPSwfDav",
        "outputId": "aeb39709-76c8-4336-9c69-15e7f5703038"
      },
      "outputs": [
        {
          "data": {
            "text/plain": [
              "<generator object KFold.split at 0x7f6c557623d0>"
            ]
          },
          "execution_count": 12,
          "metadata": {},
          "output_type": "execute_result"
        }
      ],
      "source": [
        "from surprise.model_selection import KFold\n",
        "\n",
        "# Set the rating scale\n",
        "rr = Reader(rating_scale=(0.5, 5.0))\n",
        "\n",
        "# Categorize the rating keys\n",
        "rating_map_keys = ['userID', 'itemID', 'rating']\n",
        "filter = df[rating_map_keys]\n",
        "\n",
        "# Get the rating data according the key filters\n",
        "data = Dataset.load_from_df(filter, rr)\n",
        "\n",
        "# Use 5-fold split\n",
        "kf = KFold(n_splits=5)\n",
        "kf.split(data)"
      ]
    },
    {
      "cell_type": "code",
      "execution_count": 13,
      "metadata": {
        "colab": {
          "base_uri": "https://localhost:8080/"
        },
        "id": "BqDDVB_OflMZ",
        "outputId": "75564ac5-cbf4-4bf1-ee35-1cc4cc77ab71"
      },
      "outputs": [
        {
          "name": "stdout",
          "output_type": "stream",
          "text": [
            "RMSE: 0.8641\n"
          ]
        },
        {
          "data": {
            "text/plain": [
              "0.8641432622800898"
            ]
          },
          "execution_count": 13,
          "metadata": {},
          "output_type": "execute_result"
        }
      ],
      "source": [
        "# Split the training and test set data \n",
        "trainset, testset = train_test_split(data, test_size=0.2)\n",
        "\n",
        "# Apply the SVD to factorize the matrix \n",
        "model = SVD(n_factors=30, n_epochs=20, lr_all=0.008, reg_all=0.08)\n",
        "\n",
        "# Find the predictions and accuracy\n",
        "predictions = model.fit(trainset).test(testset)\n",
        "accuracy.rmse(predictions)"
      ]
    },
    {
      "cell_type": "code",
      "execution_count": 15,
      "metadata": {
        "colab": {
          "base_uri": "https://localhost:8080/"
        },
        "id": "I-IMf3JdfJa6",
        "outputId": "69796893-f0c0-4042-95ae-0d68a7c3f339"
      },
      "outputs": [
        {
          "name": "stdout",
          "output_type": "stream",
          "text": [
            "Computing the msd similarity matrix...\n",
            "Done computing similarity matrix.\n",
            "RMSE: 0.9421\n"
          ]
        },
        {
          "data": {
            "text/plain": [
              "0.9420790684480527"
            ]
          },
          "execution_count": 15,
          "metadata": {},
          "output_type": "execute_result"
        }
      ],
      "source": [
        "# Use KNN to get the predictions\n",
        "model1 = KNNBasic(n_factors=30, n_epochs=20)\n",
        "predictions2 = model1.fit(trainset).test(testset)\n",
        "\n",
        "# Find accuracy using RMSE\n",
        "accuracy.rmse(predictions2)"
      ]
    },
    {
      "cell_type": "code",
      "execution_count": 18,
      "metadata": {
        "id": "O8clegYPjLIl"
      },
      "outputs": [],
      "source": [
        "def calculate_precision_recall_for_k(predictions, k=10, threshold=3.5):\n",
        "\n",
        "    # Construct user id value to estimate\n",
        "    user_id_to_estimate_map = defaultdict(list)\n",
        "    for user_id, _, ratings_true, estimate_value, _ in predictions:\n",
        "        user_id_to_estimate_map[user_id].append((estimate_value, ratings_true))\n",
        "\n",
        "    # Precision and Recall variables definition\n",
        "    precisions = dict()\n",
        "    recalls = dict()\n",
        "\n",
        "    # Return precision and recall for each user id \n",
        "    for user_id, user_ratings in user_id_to_estimate_map.items():\n",
        "\n",
        "        user_ratings.sort(key=lambda x: x[0], reverse=True)\n",
        "\n",
        "        n_rel = sum((ratings_true >= threshold) for (_, ratings_true) in user_ratings)\n",
        "\n",
        "        n_rec_k = sum((estimate_value >= threshold) for (estimate_value, _) in user_ratings[:k])\n",
        "\n",
        "        n_rel_and_rec_k = sum(((ratings_true >= threshold) and (estimate_value >= threshold))\n",
        "                              for (estimate_value, ratings_true) in user_ratings[:k])\n",
        "\n",
        "        # Calculate precision and recall\n",
        "        precisions[user_id] = n_rel_and_rec_k / n_rec_k if n_rec_k != 0 else 1\n",
        "\n",
        "        recalls[user_id] = n_rel_and_rec_k / n_rel if n_rel != 0 else 1\n",
        "\n",
        "    return precisions, recalls"
      ]
    },
    {
      "cell_type": "code",
      "execution_count": 19,
      "metadata": {
        "colab": {
          "base_uri": "https://localhost:8080/"
        },
        "id": "RpKothhyfsqc",
        "outputId": "62b0a7fb-1d8d-49e8-e775-9d0aa15402dd"
      },
      "outputs": [
        {
          "name": "stdout",
          "output_type": "stream",
          "text": [
            "Split: 1\n",
            "Computing the msd similarity matrix...\n",
            "Done computing similarity matrix.\n",
            "RMSE: 0.9490\n",
            "Precision: 0.7934699453551924\n",
            "Recall: 0.25461574366041145\n",
            "Split: 1\n",
            "Computing the msd similarity matrix...\n",
            "Done computing similarity matrix.\n",
            "RMSE: 0.9518\n",
            "Precision: 0.7769398907103835\n",
            "Recall: 0.26155487184094406\n",
            "Split: 1\n",
            "Computing the msd similarity matrix...\n",
            "Done computing similarity matrix.\n",
            "RMSE: 0.9511\n",
            "Precision: 0.7766393442622963\n",
            "Recall: 0.2665051902172836\n",
            "Split: 1\n",
            "Computing the msd similarity matrix...\n",
            "Done computing similarity matrix.\n",
            "RMSE: 0.9531\n",
            "Precision: 0.7621038251366131\n",
            "Recall: 0.26986408655957206\n"
          ]
        }
      ],
      "source": [
        "# Using K fold technique with 4 splits\n",
        "kf = KFold(n_splits=4)\n",
        "\n",
        "i = 1\n",
        "\n",
        "# Calculating the final results with split\n",
        "for trainset, testset in kf.split(data):\n",
        "    print(\"Split:\", i)\n",
        "    predictions = model1.fit(trainset).test(testset)\n",
        "\n",
        "    # Calculate the accuracy using RMSE\n",
        "    accuracy.rmse(predictions, verbose=True)\n",
        "    precisions, recalls = calculate_precision_recall_for_k(predictions, k=5, threshold=4)\n",
        "\n",
        "    print(\"Precision:\", sum(prec for prec in precisions.values()) / len(precisions))\n",
        "    print(\"Recall:\", sum(rec for rec in recalls.values()) / len(recalls))\n",
        "    i+=1"
      ]
    },
    {
      "cell_type": "code",
      "execution_count": 20,
      "metadata": {
        "id": "TGGc31YciBs0"
      },
      "outputs": [],
      "source": [
        "# Calculate the predictions\n",
        "def getpreds(predictions):\n",
        "    \n",
        "    pred_value = defaultdict(list)    \n",
        "    for user_id, id, ratings_true, estimate_value, _ in predictions:\n",
        "        pred_value[user_id].append((id, estimate_value))\n",
        "\n",
        "    for user_id, user_ratings in pred_value.items():\n",
        "        user_ratings.sort(key=lambda x: x[1], reverse=True)\n",
        "\n",
        "    return pred_value"
      ]
    },
    {
      "cell_type": "code",
      "execution_count": 22,
      "metadata": {
        "colab": {
          "base_uri": "https://localhost:8080/"
        },
        "id": "qqTObHB3kAqO",
        "outputId": "e08d754c-3d5b-46b6-c79a-8f83523fb095"
      },
      "outputs": [
        {
          "name": "stdout",
          "output_type": "stream",
          "text": [
            "Computing the msd similarity matrix...\n",
            "Done computing similarity matrix.\n"
          ]
        }
      ],
      "source": [
        "trainset = data.build_full_trainset()\n",
        "model1.fit(trainset)\n",
        "\n",
        "# Get the predictions \n",
        "testset = trainset.build_anti_testset()\n",
        "predictions = model1.test(testset)\n",
        "final_pred = getpreds(predictions)"
      ]
    },
    {
      "cell_type": "code",
      "execution_count": 23,
      "metadata": {
        "id": "945A386-kTLY"
      },
      "outputs": [],
      "source": [
        "# Adjusting the recommendation quantity to 10.\n",
        "n = 10\n",
        "\n",
        "for user_id, user_ratings in final_pred.items():\n",
        "    user_ratings.sort(key=lambda x: x[1], reverse=True)\n",
        "    final_pred[user_id] = user_ratings[:n]"
      ]
    },
    {
      "cell_type": "code",
      "execution_count": 24,
      "metadata": {
        "id": "TBzdWYHakYI-"
      },
      "outputs": [],
      "source": [
        "# Prepare the data\n",
        "tmp = pd.DataFrame.from_dict(final_pred)\n",
        "tmp_transpose = tmp.transpose()"
      ]
    },
    {
      "cell_type": "code",
      "execution_count": 25,
      "metadata": {
        "id": "KtIFd-n-kYzO"
      },
      "outputs": [],
      "source": [
        "# Compile the result values\n",
        "response = []\n",
        "for user_id,user_ratings in final_pred.items():\n",
        "  response.append(tmp_transpose.loc[user_id])"
      ]
    },
    {
      "cell_type": "code",
      "execution_count": 26,
      "metadata": {
        "id": "Gs4xRe9skdVK"
      },
      "outputs": [],
      "source": [
        "recommendation = []\n",
        "# Compile the recommendation\n",
        "for i in response:\n",
        "  recommended_movie_ids=[]\n",
        "  for x in range(0, n):\n",
        "    recommended_movie_ids.append(i[x][0])\n",
        "  recommendation.append(recommended_movie_ids)"
      ]
    },
    {
      "cell_type": "code",
      "execution_count": 28,
      "metadata": {
        "id": "Ke4bXvEukfpw"
      },
      "outputs": [],
      "source": [
        "movies = pd.read_csv('/content/drive/MyDrive/CSE573-SWM-Movie-Recommender/DATA/movies.csv')\n",
        "final_value = []\n",
        "\n",
        "# Get final results for the recommendation\n",
        "for i in recommendation:\n",
        "  df = movies[movies['movieId'].isin(i)]\n",
        "  temp = df['title'].tolist()\n",
        "  final_value.append(temp)"
      ]
    },
    {
      "cell_type": "code",
      "execution_count": 29,
      "metadata": {
        "id": "cCZvSA1fkjSW"
      },
      "outputs": [],
      "source": [
        "# Construct dataframe from the results\n",
        "final_df = pd.DataFrame(final_value)"
      ]
    },
    {
      "cell_type": "code",
      "execution_count": 30,
      "metadata": {
        "id": "7XIRujo9klHh"
      },
      "outputs": [],
      "source": [
        "# Convert the results to csv file\n",
        "final_df.to_csv('/content/drive/MyDrive/CSE573-SWM-Movie-Recommender/DATA/file1.csv',index = False)"
      ]
    },
    {
      "cell_type": "code",
      "execution_count": 32,
      "metadata": {
        "colab": {
          "base_uri": "https://localhost:8080/",
          "height": 1000
        },
        "id": "n9HUMUukkrog",
        "outputId": "d5fa4ca6-ad54-4f7a-ed21-bc1eec7a6e71"
      },
      "outputs": [
        {
          "data": {
            "text/html": [
              "\n",
              "  <div id=\"df-1dd28abd-0048-4b84-acb6-914e4c318baf\">\n",
              "    <div class=\"colab-df-container\">\n",
              "      <div>\n",
              "<style scoped>\n",
              "    .dataframe tbody tr th:only-of-type {\n",
              "        vertical-align: middle;\n",
              "    }\n",
              "\n",
              "    .dataframe tbody tr th {\n",
              "        vertical-align: top;\n",
              "    }\n",
              "\n",
              "    .dataframe thead th {\n",
              "        text-align: right;\n",
              "    }\n",
              "</style>\n",
              "<table border=\"1\" class=\"dataframe\">\n",
              "  <thead>\n",
              "    <tr style=\"text-align: right;\">\n",
              "      <th></th>\n",
              "      <th>0</th>\n",
              "      <th>1</th>\n",
              "      <th>2</th>\n",
              "      <th>3</th>\n",
              "      <th>4</th>\n",
              "      <th>5</th>\n",
              "      <th>6</th>\n",
              "      <th>7</th>\n",
              "      <th>8</th>\n",
              "      <th>9</th>\n",
              "    </tr>\n",
              "  </thead>\n",
              "  <tbody>\n",
              "    <tr>\n",
              "      <th>0</th>\n",
              "      <td>Lesson Faust (1994)</td>\n",
              "      <td>Assignment, The (1997)</td>\n",
              "      <td>Mephisto (1981)</td>\n",
              "      <td>I'm the One That I Want (2000)</td>\n",
              "      <td>Galaxy of Terror (Quest) (1981)</td>\n",
              "      <td>Alien Contamination (1980)</td>\n",
              "      <td>Dylan Moran: Monster (2004)</td>\n",
              "      <td>Bill Hicks: Revelations (1993)</td>\n",
              "      <td>The Jinx: The Life and Deaths of Robert Durst ...</td>\n",
              "      <td>Black Mirror</td>\n",
              "    </tr>\n",
              "    <tr>\n",
              "      <th>1</th>\n",
              "      <td>Far From Home: The Adventures of Yellow Dog (1...</td>\n",
              "      <td>Lassie (1994)</td>\n",
              "      <td>It's My Party (1996)</td>\n",
              "      <td>Children of the Corn IV: The Gathering (1996)</td>\n",
              "      <td>Lesson Faust (1994)</td>\n",
              "      <td>I'm the One That I Want (2000)</td>\n",
              "      <td>Elling (2001)</td>\n",
              "      <td>Dylan Moran: Monster (2004)</td>\n",
              "      <td>Bill Hicks: Revelations (1993)</td>\n",
              "      <td>Black Mirror</td>\n",
              "    </tr>\n",
              "    <tr>\n",
              "      <th>2</th>\n",
              "      <td>It's My Party (1996)</td>\n",
              "      <td>Assignment, The (1997)</td>\n",
              "      <td>Mephisto (1981)</td>\n",
              "      <td>I'm the One That I Want (2000)</td>\n",
              "      <td>Elling (2001)</td>\n",
              "      <td>My Sassy Girl (Yeopgijeogin geunyeo) (2001)</td>\n",
              "      <td>Strictly Sexual (2008)</td>\n",
              "      <td>Dylan Moran: Monster (2004)</td>\n",
              "      <td>Bill Hicks: Revelations (1993)</td>\n",
              "      <td>Black Mirror</td>\n",
              "    </tr>\n",
              "    <tr>\n",
              "      <th>3</th>\n",
              "      <td>Lesson Faust (1994)</td>\n",
              "      <td>Assignment, The (1997)</td>\n",
              "      <td>Mephisto (1981)</td>\n",
              "      <td>Galaxy of Terror (Quest) (1981)</td>\n",
              "      <td>Alien Contamination (1980)</td>\n",
              "      <td>My Sassy Girl (Yeopgijeogin geunyeo) (2001)</td>\n",
              "      <td>Dylan Moran: Monster (2004)</td>\n",
              "      <td>Bill Hicks: Revelations (1993)</td>\n",
              "      <td>The Jinx: The Life and Deaths of Robert Durst ...</td>\n",
              "      <td>Black Mirror</td>\n",
              "    </tr>\n",
              "    <tr>\n",
              "      <th>4</th>\n",
              "      <td>Lesson Faust (1994)</td>\n",
              "      <td>Assignment, The (1997)</td>\n",
              "      <td>Mephisto (1981)</td>\n",
              "      <td>I'm the One That I Want (2000)</td>\n",
              "      <td>Galaxy of Terror (Quest) (1981)</td>\n",
              "      <td>Elling (2001)</td>\n",
              "      <td>Alien Contamination (1980)</td>\n",
              "      <td>Dylan Moran: Monster (2004)</td>\n",
              "      <td>The Jinx: The Life and Deaths of Robert Durst ...</td>\n",
              "      <td>Black Mirror</td>\n",
              "    </tr>\n",
              "    <tr>\n",
              "      <th>...</th>\n",
              "      <td>...</td>\n",
              "      <td>...</td>\n",
              "      <td>...</td>\n",
              "      <td>...</td>\n",
              "      <td>...</td>\n",
              "      <td>...</td>\n",
              "      <td>...</td>\n",
              "      <td>...</td>\n",
              "      <td>...</td>\n",
              "      <td>...</td>\n",
              "    </tr>\n",
              "    <tr>\n",
              "      <th>605</th>\n",
              "      <td>Lesson Faust (1994)</td>\n",
              "      <td>Assignment, The (1997)</td>\n",
              "      <td>Mephisto (1981)</td>\n",
              "      <td>I'm the One That I Want (2000)</td>\n",
              "      <td>Galaxy of Terror (Quest) (1981)</td>\n",
              "      <td>Alien Contamination (1980)</td>\n",
              "      <td>Dylan Moran: Monster (2004)</td>\n",
              "      <td>Bill Hicks: Revelations (1993)</td>\n",
              "      <td>The Jinx: The Life and Deaths of Robert Durst ...</td>\n",
              "      <td>Black Mirror</td>\n",
              "    </tr>\n",
              "    <tr>\n",
              "      <th>606</th>\n",
              "      <td>Lesson Faust (1994)</td>\n",
              "      <td>Assignment, The (1997)</td>\n",
              "      <td>Mephisto (1981)</td>\n",
              "      <td>I'm the One That I Want (2000)</td>\n",
              "      <td>Galaxy of Terror (Quest) (1981)</td>\n",
              "      <td>Alien Contamination (1980)</td>\n",
              "      <td>Dylan Moran: Monster (2004)</td>\n",
              "      <td>Bill Hicks: Revelations (1993)</td>\n",
              "      <td>The Jinx: The Life and Deaths of Robert Durst ...</td>\n",
              "      <td>Black Mirror</td>\n",
              "    </tr>\n",
              "    <tr>\n",
              "      <th>607</th>\n",
              "      <td>Lesson Faust (1994)</td>\n",
              "      <td>Assignment, The (1997)</td>\n",
              "      <td>Mephisto (1981)</td>\n",
              "      <td>I'm the One That I Want (2000)</td>\n",
              "      <td>Galaxy of Terror (Quest) (1981)</td>\n",
              "      <td>Alien Contamination (1980)</td>\n",
              "      <td>Dylan Moran: Monster (2004)</td>\n",
              "      <td>Bill Hicks: Revelations (1993)</td>\n",
              "      <td>The Jinx: The Life and Deaths of Robert Durst ...</td>\n",
              "      <td>Black Mirror</td>\n",
              "    </tr>\n",
              "    <tr>\n",
              "      <th>608</th>\n",
              "      <td>Lesson Faust (1994)</td>\n",
              "      <td>Assignment, The (1997)</td>\n",
              "      <td>Bent (1997)</td>\n",
              "      <td>Mephisto (1981)</td>\n",
              "      <td>I'm the One That I Want (2000)</td>\n",
              "      <td>Elling (2001)</td>\n",
              "      <td>Dylan Moran: Monster (2004)</td>\n",
              "      <td>Bill Hicks: Revelations (1993)</td>\n",
              "      <td>The Jinx: The Life and Deaths of Robert Durst ...</td>\n",
              "      <td>Black Mirror</td>\n",
              "    </tr>\n",
              "    <tr>\n",
              "      <th>609</th>\n",
              "      <td>Lesson Faust (1994)</td>\n",
              "      <td>Assignment, The (1997)</td>\n",
              "      <td>Mephisto (1981)</td>\n",
              "      <td>I'm the One That I Want (2000)</td>\n",
              "      <td>Galaxy of Terror (Quest) (1981)</td>\n",
              "      <td>Alien Contamination (1980)</td>\n",
              "      <td>Dylan Moran: Monster (2004)</td>\n",
              "      <td>Bill Hicks: Revelations (1993)</td>\n",
              "      <td>The Jinx: The Life and Deaths of Robert Durst ...</td>\n",
              "      <td>Black Mirror</td>\n",
              "    </tr>\n",
              "  </tbody>\n",
              "</table>\n",
              "<p>610 rows × 10 columns</p>\n",
              "</div>\n",
              "      <button class=\"colab-df-convert\" onclick=\"convertToInteractive('df-1dd28abd-0048-4b84-acb6-914e4c318baf')\"\n",
              "              title=\"Convert this dataframe to an interactive table.\"\n",
              "              style=\"display:none;\">\n",
              "        \n",
              "  <svg xmlns=\"http://www.w3.org/2000/svg\" height=\"24px\"viewBox=\"0 0 24 24\"\n",
              "       width=\"24px\">\n",
              "    <path d=\"M0 0h24v24H0V0z\" fill=\"none\"/>\n",
              "    <path d=\"M18.56 5.44l.94 2.06.94-2.06 2.06-.94-2.06-.94-.94-2.06-.94 2.06-2.06.94zm-11 1L8.5 8.5l.94-2.06 2.06-.94-2.06-.94L8.5 2.5l-.94 2.06-2.06.94zm10 10l.94 2.06.94-2.06 2.06-.94-2.06-.94-.94-2.06-.94 2.06-2.06.94z\"/><path d=\"M17.41 7.96l-1.37-1.37c-.4-.4-.92-.59-1.43-.59-.52 0-1.04.2-1.43.59L10.3 9.45l-7.72 7.72c-.78.78-.78 2.05 0 2.83L4 21.41c.39.39.9.59 1.41.59.51 0 1.02-.2 1.41-.59l7.78-7.78 2.81-2.81c.8-.78.8-2.07 0-2.86zM5.41 20L4 18.59l7.72-7.72 1.47 1.35L5.41 20z\"/>\n",
              "  </svg>\n",
              "      </button>\n",
              "      \n",
              "  <style>\n",
              "    .colab-df-container {\n",
              "      display:flex;\n",
              "      flex-wrap:wrap;\n",
              "      gap: 12px;\n",
              "    }\n",
              "\n",
              "    .colab-df-convert {\n",
              "      background-color: #E8F0FE;\n",
              "      border: none;\n",
              "      border-radius: 50%;\n",
              "      cursor: pointer;\n",
              "      display: none;\n",
              "      fill: #1967D2;\n",
              "      height: 32px;\n",
              "      padding: 0 0 0 0;\n",
              "      width: 32px;\n",
              "    }\n",
              "\n",
              "    .colab-df-convert:hover {\n",
              "      background-color: #E2EBFA;\n",
              "      box-shadow: 0px 1px 2px rgba(60, 64, 67, 0.3), 0px 1px 3px 1px rgba(60, 64, 67, 0.15);\n",
              "      fill: #174EA6;\n",
              "    }\n",
              "\n",
              "    [theme=dark] .colab-df-convert {\n",
              "      background-color: #3B4455;\n",
              "      fill: #D2E3FC;\n",
              "    }\n",
              "\n",
              "    [theme=dark] .colab-df-convert:hover {\n",
              "      background-color: #434B5C;\n",
              "      box-shadow: 0px 1px 3px 1px rgba(0, 0, 0, 0.15);\n",
              "      filter: drop-shadow(0px 1px 2px rgba(0, 0, 0, 0.3));\n",
              "      fill: #FFFFFF;\n",
              "    }\n",
              "  </style>\n",
              "\n",
              "      <script>\n",
              "        const buttonEl =\n",
              "          document.querySelector('#df-1dd28abd-0048-4b84-acb6-914e4c318baf button.colab-df-convert');\n",
              "        buttonEl.style.display =\n",
              "          google.colab.kernel.accessAllowed ? 'block' : 'none';\n",
              "\n",
              "        async function convertToInteractive(key) {\n",
              "          const element = document.querySelector('#df-1dd28abd-0048-4b84-acb6-914e4c318baf');\n",
              "          const dataTable =\n",
              "            await google.colab.kernel.invokeFunction('convertToInteractive',\n",
              "                                                     [key], {});\n",
              "          if (!dataTable) return;\n",
              "\n",
              "          const docLinkHtml = 'Like what you see? Visit the ' +\n",
              "            '<a target=\"_blank\" href=https://colab.research.google.com/notebooks/data_table.ipynb>data table notebook</a>'\n",
              "            + ' to learn more about interactive tables.';\n",
              "          element.innerHTML = '';\n",
              "          dataTable['output_type'] = 'display_data';\n",
              "          await google.colab.output.renderOutput(dataTable, element);\n",
              "          const docLink = document.createElement('div');\n",
              "          docLink.innerHTML = docLinkHtml;\n",
              "          element.appendChild(docLink);\n",
              "        }\n",
              "      </script>\n",
              "    </div>\n",
              "  </div>\n",
              "  "
            ],
            "text/plain": [
              "                                                     0  \\\n",
              "0                                  Lesson Faust (1994)   \n",
              "1    Far From Home: The Adventures of Yellow Dog (1...   \n",
              "2                                 It's My Party (1996)   \n",
              "3                                  Lesson Faust (1994)   \n",
              "4                                  Lesson Faust (1994)   \n",
              "..                                                 ...   \n",
              "605                                Lesson Faust (1994)   \n",
              "606                                Lesson Faust (1994)   \n",
              "607                                Lesson Faust (1994)   \n",
              "608                                Lesson Faust (1994)   \n",
              "609                                Lesson Faust (1994)   \n",
              "\n",
              "                          1                     2  \\\n",
              "0    Assignment, The (1997)       Mephisto (1981)   \n",
              "1             Lassie (1994)  It's My Party (1996)   \n",
              "2    Assignment, The (1997)       Mephisto (1981)   \n",
              "3    Assignment, The (1997)       Mephisto (1981)   \n",
              "4    Assignment, The (1997)       Mephisto (1981)   \n",
              "..                      ...                   ...   \n",
              "605  Assignment, The (1997)       Mephisto (1981)   \n",
              "606  Assignment, The (1997)       Mephisto (1981)   \n",
              "607  Assignment, The (1997)       Mephisto (1981)   \n",
              "608  Assignment, The (1997)           Bent (1997)   \n",
              "609  Assignment, The (1997)       Mephisto (1981)   \n",
              "\n",
              "                                                 3  \\\n",
              "0                   I'm the One That I Want (2000)   \n",
              "1    Children of the Corn IV: The Gathering (1996)   \n",
              "2                   I'm the One That I Want (2000)   \n",
              "3                  Galaxy of Terror (Quest) (1981)   \n",
              "4                   I'm the One That I Want (2000)   \n",
              "..                                             ...   \n",
              "605                 I'm the One That I Want (2000)   \n",
              "606                 I'm the One That I Want (2000)   \n",
              "607                 I'm the One That I Want (2000)   \n",
              "608                                Mephisto (1981)   \n",
              "609                 I'm the One That I Want (2000)   \n",
              "\n",
              "                                   4  \\\n",
              "0    Galaxy of Terror (Quest) (1981)   \n",
              "1                Lesson Faust (1994)   \n",
              "2                      Elling (2001)   \n",
              "3         Alien Contamination (1980)   \n",
              "4    Galaxy of Terror (Quest) (1981)   \n",
              "..                               ...   \n",
              "605  Galaxy of Terror (Quest) (1981)   \n",
              "606  Galaxy of Terror (Quest) (1981)   \n",
              "607  Galaxy of Terror (Quest) (1981)   \n",
              "608   I'm the One That I Want (2000)   \n",
              "609  Galaxy of Terror (Quest) (1981)   \n",
              "\n",
              "                                               5                            6  \\\n",
              "0                     Alien Contamination (1980)  Dylan Moran: Monster (2004)   \n",
              "1                 I'm the One That I Want (2000)                Elling (2001)   \n",
              "2    My Sassy Girl (Yeopgijeogin geunyeo) (2001)       Strictly Sexual (2008)   \n",
              "3    My Sassy Girl (Yeopgijeogin geunyeo) (2001)  Dylan Moran: Monster (2004)   \n",
              "4                                  Elling (2001)   Alien Contamination (1980)   \n",
              "..                                           ...                          ...   \n",
              "605                   Alien Contamination (1980)  Dylan Moran: Monster (2004)   \n",
              "606                   Alien Contamination (1980)  Dylan Moran: Monster (2004)   \n",
              "607                   Alien Contamination (1980)  Dylan Moran: Monster (2004)   \n",
              "608                                Elling (2001)  Dylan Moran: Monster (2004)   \n",
              "609                   Alien Contamination (1980)  Dylan Moran: Monster (2004)   \n",
              "\n",
              "                                  7  \\\n",
              "0    Bill Hicks: Revelations (1993)   \n",
              "1       Dylan Moran: Monster (2004)   \n",
              "2       Dylan Moran: Monster (2004)   \n",
              "3    Bill Hicks: Revelations (1993)   \n",
              "4       Dylan Moran: Monster (2004)   \n",
              "..                              ...   \n",
              "605  Bill Hicks: Revelations (1993)   \n",
              "606  Bill Hicks: Revelations (1993)   \n",
              "607  Bill Hicks: Revelations (1993)   \n",
              "608  Bill Hicks: Revelations (1993)   \n",
              "609  Bill Hicks: Revelations (1993)   \n",
              "\n",
              "                                                     8             9  \n",
              "0    The Jinx: The Life and Deaths of Robert Durst ...  Black Mirror  \n",
              "1                       Bill Hicks: Revelations (1993)  Black Mirror  \n",
              "2                       Bill Hicks: Revelations (1993)  Black Mirror  \n",
              "3    The Jinx: The Life and Deaths of Robert Durst ...  Black Mirror  \n",
              "4    The Jinx: The Life and Deaths of Robert Durst ...  Black Mirror  \n",
              "..                                                 ...           ...  \n",
              "605  The Jinx: The Life and Deaths of Robert Durst ...  Black Mirror  \n",
              "606  The Jinx: The Life and Deaths of Robert Durst ...  Black Mirror  \n",
              "607  The Jinx: The Life and Deaths of Robert Durst ...  Black Mirror  \n",
              "608  The Jinx: The Life and Deaths of Robert Durst ...  Black Mirror  \n",
              "609  The Jinx: The Life and Deaths of Robert Durst ...  Black Mirror  \n",
              "\n",
              "[610 rows x 10 columns]"
            ]
          },
          "execution_count": 32,
          "metadata": {},
          "output_type": "execute_result"
        }
      ],
      "source": [
        "# Print the compiled csv results\n",
        "result = pd.read_csv('/content/drive/MyDrive/CSE573-SWM-Movie-Recommender/DATA/file1.csv')\n",
        "result"
      ]
    }
  ],
  "metadata": {
    "colab": {
      "collapsed_sections": [],
      "name": "KNN.ipynb",
      "provenance": []
    },
    "kernelspec": {
      "display_name": "Python 3",
      "name": "python3"
    },
    "language_info": {
      "codemirror_mode": {
        "name": "ipython",
        "version": 3
      },
      "file_extension": ".py",
      "mimetype": "text/x-python",
      "name": "python",
      "nbconvert_exporter": "python",
      "pygments_lexer": "ipython3",
      "version": "3.11.1"
    }
  },
  "nbformat": 4,
  "nbformat_minor": 0
}
